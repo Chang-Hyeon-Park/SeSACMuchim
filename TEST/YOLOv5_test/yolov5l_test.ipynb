{
 "cells": [
  {
   "cell_type": "code",
   "execution_count": 1,
   "metadata": {
    "colab": {
     "base_uri": "https://localhost:8080/"
    },
    "executionInfo": {
     "elapsed": 87477,
     "status": "ok",
     "timestamp": 1731717500297,
     "user": {
      "displayName": "수면감자",
      "userId": "16011796006519038270"
     },
     "user_tz": -540
    },
    "id": "csNrCVX1FxBA",
    "outputId": "9326d459-c9b7-4dc6-cef2-116122a45c66"
   },
   "outputs": [
    {
     "name": "stdout",
     "output_type": "stream",
     "text": [
      "Mounted at /content/drive\n"
     ]
    }
   ],
   "source": [
    "from google.colab import drive\n",
    "drive.mount('/content/drive')"
   ]
  },
  {
   "cell_type": "code",
   "execution_count": 2,
   "metadata": {
    "collapsed": true,
    "executionInfo": {
     "elapsed": 329,
     "status": "ok",
     "timestamp": 1731717509143,
     "user": {
      "displayName": "수면감자",
      "userId": "16011796006519038270"
     },
     "user_tz": -540
    },
    "id": "89_nZknVhIik"
   },
   "outputs": [],
   "source": [
    "# !unzip /content/drive/MyDrive/SeSAC_Final_Project_새싹무침/model/yolov5.zip -d /content/drive/MyDrive/SeSAC_Final_Project_새싹무침/model/"
   ]
  },
  {
   "cell_type": "code",
   "execution_count": null,
   "metadata": {
    "colab": {
     "base_uri": "https://localhost:8080/"
    },
    "executionInfo": {
     "elapsed": 2290,
     "status": "ok",
     "timestamp": 1731717513354,
     "user": {
      "displayName": "수면감자",
      "userId": "16011796006519038270"
     },
     "user_tz": -540
    },
    "id": "Qg2h0qjAFwO1",
    "outputId": "87f0a964-812a-43be-ae76-09c376fba282"
   },
   "outputs": [
    {
     "name": "stdout",
     "output_type": "stream",
     "text": [
      "Drive already mounted at /content/drive; to attempt to forcibly remount, call drive.mount(\"/content/drive\", force_remount=True).\n"
     ]
    }
   ],
   "source": [
    "from google.colab import drive\n",
    "drive.mount('/content/drive')"
   ]
  },
  {
   "cell_type": "code",
   "execution_count": 4,
   "metadata": {
    "colab": {
     "base_uri": "https://localhost:8080/"
    },
    "executionInfo": {
     "elapsed": 4857,
     "status": "ok",
     "timestamp": 1731717519433,
     "user": {
      "displayName": "수면감자",
      "userId": "16011796006519038270"
     },
     "user_tz": -540
    },
    "id": "kAkh00FehZTW",
    "outputId": "3e833a13-249b-474f-fef7-c025849bdb22"
   },
   "outputs": [
    {
     "name": "stdout",
     "output_type": "stream",
     "text": [
      "/content/drive/.shortcut-targets-by-id/1N3hd8BTFKz67hdKAwuY0KaWwhIhiQhjO/SeSAC_Final_Project_새싹무침/model/yolov5\n",
      "Requirement already satisfied: gitpython>=3.1.30 in /usr/local/lib/python3.10/dist-packages (from -r requirements.txt (line 5)) (3.1.43)\n",
      "Requirement already satisfied: matplotlib>=3.3 in /usr/local/lib/python3.10/dist-packages (from -r requirements.txt (line 6)) (3.8.0)\n",
      "Requirement already satisfied: numpy>=1.23.5 in /usr/local/lib/python3.10/dist-packages (from -r requirements.txt (line 7)) (1.26.4)\n",
      "Requirement already satisfied: opencv-python>=4.1.1 in /usr/local/lib/python3.10/dist-packages (from -r requirements.txt (line 8)) (4.10.0.84)\n",
      "Requirement already satisfied: pillow>=10.3.0 in /usr/local/lib/python3.10/dist-packages (from -r requirements.txt (line 9)) (11.0.0)\n",
      "Requirement already satisfied: psutil in /usr/local/lib/python3.10/dist-packages (from -r requirements.txt (line 10)) (5.9.5)\n",
      "Requirement already satisfied: PyYAML>=5.3.1 in /usr/local/lib/python3.10/dist-packages (from -r requirements.txt (line 11)) (6.0.2)\n",
      "Requirement already satisfied: requests>=2.32.2 in /usr/local/lib/python3.10/dist-packages (from -r requirements.txt (line 12)) (2.32.3)\n",
      "Requirement already satisfied: scipy>=1.4.1 in /usr/local/lib/python3.10/dist-packages (from -r requirements.txt (line 13)) (1.13.1)\n",
      "Collecting thop>=0.1.1 (from -r requirements.txt (line 14))\n",
      "  Downloading thop-0.1.1.post2209072238-py3-none-any.whl.metadata (2.7 kB)\n",
      "Requirement already satisfied: torch>=1.8.0 in /usr/local/lib/python3.10/dist-packages (from -r requirements.txt (line 15)) (2.5.1+cu121)\n",
      "Requirement already satisfied: torchvision>=0.9.0 in /usr/local/lib/python3.10/dist-packages (from -r requirements.txt (line 16)) (0.20.1+cu121)\n",
      "Requirement already satisfied: tqdm>=4.66.3 in /usr/local/lib/python3.10/dist-packages (from -r requirements.txt (line 17)) (4.66.6)\n",
      "Collecting ultralytics>=8.2.34 (from -r requirements.txt (line 18))\n",
      "  Downloading ultralytics-8.3.31-py3-none-any.whl.metadata (35 kB)\n",
      "Requirement already satisfied: pandas>=1.1.4 in /usr/local/lib/python3.10/dist-packages (from -r requirements.txt (line 27)) (2.2.2)\n",
      "Requirement already satisfied: seaborn>=0.11.0 in /usr/local/lib/python3.10/dist-packages (from -r requirements.txt (line 28)) (0.13.2)\n",
      "Requirement already satisfied: setuptools>=70.0.0 in /usr/local/lib/python3.10/dist-packages (from -r requirements.txt (line 42)) (75.1.0)\n",
      "Requirement already satisfied: gitdb<5,>=4.0.1 in /usr/local/lib/python3.10/dist-packages (from gitpython>=3.1.30->-r requirements.txt (line 5)) (4.0.11)\n",
      "Requirement already satisfied: contourpy>=1.0.1 in /usr/local/lib/python3.10/dist-packages (from matplotlib>=3.3->-r requirements.txt (line 6)) (1.3.1)\n",
      "Requirement already satisfied: cycler>=0.10 in /usr/local/lib/python3.10/dist-packages (from matplotlib>=3.3->-r requirements.txt (line 6)) (0.12.1)\n",
      "Requirement already satisfied: fonttools>=4.22.0 in /usr/local/lib/python3.10/dist-packages (from matplotlib>=3.3->-r requirements.txt (line 6)) (4.54.1)\n",
      "Requirement already satisfied: kiwisolver>=1.0.1 in /usr/local/lib/python3.10/dist-packages (from matplotlib>=3.3->-r requirements.txt (line 6)) (1.4.7)\n",
      "Requirement already satisfied: packaging>=20.0 in /usr/local/lib/python3.10/dist-packages (from matplotlib>=3.3->-r requirements.txt (line 6)) (24.2)\n",
      "Requirement already satisfied: pyparsing>=2.3.1 in /usr/local/lib/python3.10/dist-packages (from matplotlib>=3.3->-r requirements.txt (line 6)) (3.2.0)\n",
      "Requirement already satisfied: python-dateutil>=2.7 in /usr/local/lib/python3.10/dist-packages (from matplotlib>=3.3->-r requirements.txt (line 6)) (2.8.2)\n",
      "Requirement already satisfied: charset-normalizer<4,>=2 in /usr/local/lib/python3.10/dist-packages (from requests>=2.32.2->-r requirements.txt (line 12)) (3.4.0)\n",
      "Requirement already satisfied: idna<4,>=2.5 in /usr/local/lib/python3.10/dist-packages (from requests>=2.32.2->-r requirements.txt (line 12)) (3.10)\n",
      "Requirement already satisfied: urllib3<3,>=1.21.1 in /usr/local/lib/python3.10/dist-packages (from requests>=2.32.2->-r requirements.txt (line 12)) (2.2.3)\n",
      "Requirement already satisfied: certifi>=2017.4.17 in /usr/local/lib/python3.10/dist-packages (from requests>=2.32.2->-r requirements.txt (line 12)) (2024.8.30)\n",
      "Requirement already satisfied: filelock in /usr/local/lib/python3.10/dist-packages (from torch>=1.8.0->-r requirements.txt (line 15)) (3.16.1)\n",
      "Requirement already satisfied: typing-extensions>=4.8.0 in /usr/local/lib/python3.10/dist-packages (from torch>=1.8.0->-r requirements.txt (line 15)) (4.12.2)\n",
      "Requirement already satisfied: networkx in /usr/local/lib/python3.10/dist-packages (from torch>=1.8.0->-r requirements.txt (line 15)) (3.4.2)\n",
      "Requirement already satisfied: jinja2 in /usr/local/lib/python3.10/dist-packages (from torch>=1.8.0->-r requirements.txt (line 15)) (3.1.4)\n",
      "Requirement already satisfied: fsspec in /usr/local/lib/python3.10/dist-packages (from torch>=1.8.0->-r requirements.txt (line 15)) (2024.10.0)\n",
      "Requirement already satisfied: sympy==1.13.1 in /usr/local/lib/python3.10/dist-packages (from torch>=1.8.0->-r requirements.txt (line 15)) (1.13.1)\n",
      "Requirement already satisfied: mpmath<1.4,>=1.1.0 in /usr/local/lib/python3.10/dist-packages (from sympy==1.13.1->torch>=1.8.0->-r requirements.txt (line 15)) (1.3.0)\n",
      "Requirement already satisfied: py-cpuinfo in /usr/local/lib/python3.10/dist-packages (from ultralytics>=8.2.34->-r requirements.txt (line 18)) (9.0.0)\n",
      "Collecting ultralytics-thop>=2.0.0 (from ultralytics>=8.2.34->-r requirements.txt (line 18))\n",
      "  Downloading ultralytics_thop-2.0.11-py3-none-any.whl.metadata (9.4 kB)\n",
      "Requirement already satisfied: pytz>=2020.1 in /usr/local/lib/python3.10/dist-packages (from pandas>=1.1.4->-r requirements.txt (line 27)) (2024.2)\n",
      "Requirement already satisfied: tzdata>=2022.7 in /usr/local/lib/python3.10/dist-packages (from pandas>=1.1.4->-r requirements.txt (line 27)) (2024.2)\n",
      "Requirement already satisfied: smmap<6,>=3.0.1 in /usr/local/lib/python3.10/dist-packages (from gitdb<5,>=4.0.1->gitpython>=3.1.30->-r requirements.txt (line 5)) (5.0.1)\n",
      "Requirement already satisfied: six>=1.5 in /usr/local/lib/python3.10/dist-packages (from python-dateutil>=2.7->matplotlib>=3.3->-r requirements.txt (line 6)) (1.16.0)\n",
      "Requirement already satisfied: MarkupSafe>=2.0 in /usr/local/lib/python3.10/dist-packages (from jinja2->torch>=1.8.0->-r requirements.txt (line 15)) (3.0.2)\n",
      "Downloading thop-0.1.1.post2209072238-py3-none-any.whl (15 kB)\n",
      "Downloading ultralytics-8.3.31-py3-none-any.whl (886 kB)\n",
      "\u001b[2K   \u001b[90m━━━━━━━━━━━━━━━━━━━━━━━━━━━━━━━━━━━━━━━━\u001b[0m \u001b[32m886.3/886.3 kB\u001b[0m \u001b[31m23.2 MB/s\u001b[0m eta \u001b[36m0:00:00\u001b[0m\n",
      "\u001b[?25hDownloading ultralytics_thop-2.0.11-py3-none-any.whl (26 kB)\n",
      "Installing collected packages: ultralytics-thop, thop, ultralytics\n",
      "Successfully installed thop-0.1.1.post2209072238 ultralytics-8.3.31 ultralytics-thop-2.0.11\n"
     ]
    }
   ],
   "source": [
    "%cd /content/drive/MyDrive/SeSAC_Final_Project_새싹무침/model/yolov5\n",
    "!pip install -r requirements.txt"
   ]
  },
  {
   "cell_type": "code",
   "execution_count": null,
   "metadata": {
    "colab": {
     "base_uri": "https://localhost:8080/"
    },
    "collapsed": true,
    "id": "Wh7omToGhcg4",
    "outputId": "861a1e32-3747-41b9-d071-6b4f49bec4d3"
   },
   "outputs": [
    {
     "name": "stdout",
     "output_type": "stream",
     "text": [
      "Creating new Ultralytics Settings v0.0.6 file ✅ \n",
      "View Ultralytics Settings with 'yolo settings' or at '/root/.config/Ultralytics/settings.json'\n",
      "Update Settings with 'yolo settings key=value', i.e. 'yolo settings runs_dir=path/to/dir'. For help see https://docs.ultralytics.com/quickstart/#ultralytics-settings.\n"
     ]
    }
   ],
   "source": [
    "!python train.py --img 640 --batch 16 --epochs 100 --data /content/drive/MyDrive/SeSAC_Final_Project_새싹무침/model/yolov5/pothole.yaml --cfg yolov5l.yaml --weights yolov5l.pt --device 0\n",
    "\n",
    "# python train.py => train.py 파일 실행\n",
    "# --img 640 => input image size 설정 => 640X640\n",
    "# --batch 16 => batch_size 설정\n",
    "# --epochs 100 => epoch 수 설정\n",
    "# --data /.../model/yolov5/pothole.yaml => pothole.yaml에 설정되어있는 데이터 경로 정보 저장\n",
    "# --cfg yolov5m.yaml => yolov5m 모델의 구성 파일 저장\n",
    "# --weigths yolov5m.pt => 모델의 사전 학습된 가중치 파일\n",
    "# --device 0 => 첫 번째 GPU 사용한다는 의미"
   ]
  },
  {
   "cell_type": "code",
   "execution_count": null,
   "metadata": {
    "id": "P5RK5wr4ldpb"
   },
   "outputs": [],
   "source": [
    "weights_path = '/content/drive/MyDrive/SeSAC_Final_Project_새싹무침/model/yolov5/runs/train/exp/weights/best.pt'"
   ]
  },
  {
   "cell_type": "code",
   "execution_count": null,
   "metadata": {
    "id": "9ypXp_3M5HOq"
   },
   "outputs": [],
   "source": [
    "test_imate = '/content/drive/MyDrive/SeSAC_Final_Project_새싹무침/data/TEST_dataset/Pothole/3_pothole_total_619/Pothole_Image_Data/5.jpg'"
   ]
  },
  {
   "cell_type": "code",
   "execution_count": null,
   "metadata": {
    "colab": {
     "base_uri": "https://localhost:8080/"
    },
    "executionInfo": {
     "elapsed": 26309,
     "status": "ok",
     "timestamp": 1731585722552,
     "user": {
      "displayName": "수면감자",
      "userId": "16011796006519038270"
     },
     "user_tz": -540
    },
    "id": "4ahLfziL5irt",
    "outputId": "b3c1faa0-7707-44e2-ff4d-b0c28d87779e"
   },
   "outputs": [
    {
     "name": "stdout",
     "output_type": "stream",
     "text": [
      "\u001b[34m\u001b[1mdetect: \u001b[0mweights=['/content/drive/MyDrive/SeSAC_Final_Project_새싹무침/model/yolov5/runs/train/exp/weights/best.pt'], source=/content/drive/MyDrive/SeSAC_Final_Project_새싹무침/data/TEST_dataset/Pothole/3_pothole_total_619/Pothole_Image_Data/5.jpg, data=data/coco128.yaml, imgsz=[640, 640], conf_thres=0.25, iou_thres=0.45, max_det=1000, device=, view_img=False, save_txt=False, save_format=0, save_csv=False, save_conf=False, save_crop=False, nosave=False, classes=None, agnostic_nms=False, augment=False, visualize=False, update=False, project=runs/detect, name=exp, exist_ok=False, line_thickness=3, hide_labels=False, hide_conf=False, half=False, dnn=False, vid_stride=1\n",
      "YOLOv5 🚀 v7.0-383-g1435a8ee Python-3.10.12 torch-2.5.0+cu121 CUDA:0 (Tesla T4, 15102MiB)\n",
      "\n",
      "Fusing layers... \n",
      "YOLOv5m summary: 212 layers, 20852934 parameters, 0 gradients, 47.9 GFLOPs\n",
      "WARNING ⚠️ NMS time limit 0.550s exceeded\n",
      "image 1/1 /content/drive/.shortcut-targets-by-id/1N3hd8BTFKz67hdKAwuY0KaWwhIhiQhjO/SeSAC_Final_Project_새싹무침/data/TEST_dataset/Pothole/3_pothole_total_619/Pothole_Image_Data/5.jpg: 448x640 4 potholes, 93.9ms\n",
      "Speed: 0.8ms pre-process, 93.9ms inference, 1199.0ms NMS per image at shape (1, 3, 640, 640)\n",
      "Results saved to \u001b[1mruns/detect/exp5\u001b[0m\n"
     ]
    }
   ],
   "source": [
    "!python detect.py --weights /content/drive/MyDrive/SeSAC_Final_Project_새싹무침/model/yolov5/runs/train/exp/weights/best.pt --source /content/drive/MyDrive/SeSAC_Final_Project_새싹무침/data/TEST_dataset/Pothole/3_pothole_total_619/Pothole_Image_Data/5.jpg"
   ]
  },
  {
   "cell_type": "code",
   "execution_count": null,
   "metadata": {
    "id": "9QstQ9pq8L6I"
   },
   "outputs": [],
   "source": [
    "import os\n",
    "import pandas as pd\n",
    "import matplotlib.pyplot as plt\n",
    "\n",
    "# 모델별 results.csv 파일 경로 설정\n",
    "results_paths = {\n",
    "    'YOLOv5s': '/content/drive/MyDrive/SeSAC_Final_Project_새싹무침/model/yolov5/runs/train/exp_s/results.csv',\n",
    "    'YOLOv5m': '/content/drive/MyDrive/SeSAC_Final_Project_새싹무침/model/yolov5/runs/train/exp_m/results.csv',\n",
    "    'YOLOv5l': '/content/drive/MyDrive/SeSAC_Final_Project_새싹무침/model/yolov5/runs/train/exp_l/results.csv',\n",
    "    'YOLOv5x': '/content/drive/MyDrive/SeSAC_Final_Project_새싹무침/model/yolov5/runs/train/exp_x/results.csv',\n",
    "}\n",
    "\n",
    "# 성능 지표를 저장할 딕셔너리\n",
    "performance_metrics = {\n",
    "    'epoch': [],\n",
    "    'precision': [],\n",
    "    'recall': [],\n",
    "    'mAP_50': [],\n",
    "    'mAP_50_95': [],\n",
    "    'model': []\n",
    "}\n",
    "\n",
    "# 각 모델의 results.csv 파일에서 데이터를 읽어옴\n",
    "for model_name, path in results_paths.items():\n",
    "    if os.path.exists(path):\n",
    "        df = pd.read_csv(path)\n",
    "        performance_metrics['epoch'].extend(df['               epoch'].values)  # 공백 제거에 유의\n",
    "        performance_metrics['precision'].extend(df['      metrics/precision(B)'].values)\n",
    "        performance_metrics['recall'].extend(df['        metrics/recall(B)'].values)\n",
    "        performance_metrics['mAP_50'].extend(df['        metrics/mAP_0.5(B)'].values)\n",
    "        performance_metrics['mAP_50_95'].extend(df[' metrics/mAP_0.5:0.95(B)'].values)\n",
    "        performance_metrics['model'].extend([model_name] * len(df))\n",
    "    else:\n",
    "        print(f\"파일 {path}이(가) 존재하지 않습니다. 해당 모델은 그래프에 포함되지 않습니다.\")\n",
    "\n",
    "# 데이터를 데이터프레임으로 변환\n",
    "performance_df = pd.DataFrame(performance_metrics)\n",
    "\n",
    "# 성능 그래프 그리기\n",
    "def plot_metric(metric_name, ylabel, title):\n",
    "    plt.figure(figsize=(10, 6))\n",
    "    for model_name in results_paths.keys():\n",
    "        model_data = performance_df[performance_df['model'] == model_name]\n",
    "        plt.plot(model_data['epoch'], model_data[metric_name], label=model_name)\n",
    "    plt.xlabel('Epoch')\n",
    "    plt.ylabel(ylabel)\n",
    "    plt.title(title)\n",
    "    plt.legend()\n",
    "    plt.grid()\n",
    "    plt.show()\n",
    "\n",
    "# Precision 그래프\n",
    "plot_metric('precision', 'Precision', 'Precision by Epoch')\n",
    "\n",
    "# Recall 그래프\n",
    "plot_metric('recall', 'Recall', 'Recall by Epoch')\n",
    "\n",
    "# mAP@0.5 그래프\n",
    "plot_metric('mAP_50', 'mAP@0.5', 'mAP@0.5 by Epoch')\n",
    "\n",
    "# mAP@0.5:0.95 그래프\n",
    "plot_metric('mAP_50_95', 'mAP@0.5:0.95', 'mAP@0.5:0.95 by Epoch')\n"
   ]
  },
  {
   "cell_type": "code",
   "execution_count": null,
   "metadata": {
    "id": "zYRBWBA48WME"
   },
   "outputs": [],
   "source": []
  }
 ],
 "metadata": {
  "accelerator": "GPU",
  "colab": {
   "gpuType": "T4",
   "provenance": [
    {
     "file_id": "1dCU2Ew0GqdBoj0gzgM-tks_QCmHkdTIZ",
     "timestamp": 1731577432768
    }
   ]
  },
  "kernelspec": {
   "display_name": "Python 3",
   "name": "python3"
  },
  "language_info": {
   "name": "python"
  }
 },
 "nbformat": 4,
 "nbformat_minor": 0
}
