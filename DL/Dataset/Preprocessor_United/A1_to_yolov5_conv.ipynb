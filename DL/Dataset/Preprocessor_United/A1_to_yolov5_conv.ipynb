{
 "cells": [
  {
   "cell_type": "code",
   "execution_count": null,
   "metadata": {},
   "outputs": [
    {
     "name": "stdout",
     "output_type": "stream",
     "text": [
      "변환 전 TXT 폴더 내 파일 개수: 246\n",
      "변환 후 TXT 폴더 내 파일 개수: 246\n",
      "images 폴더 내 파일 개수: 246\n",
      "TXT 폴더와 images 폴더의 파일 개수 및 파일명이 동일합니다.\n",
      "변환된 TXT 파일을 기존 TXT 파일에 덮어쓰기 했습니다.\n"
     ]
    }
   ],
   "source": [
    "### 해당 코드는 YOLOv5 형식의 폴리곤을 bounding box 형식으로 바꿔줍니다.\n",
    "### TXT 폴더에 기존 label(annotation) 파일을 넣어주고 images 폴더에 원본 그림파일을 넣어줍니다.\n",
    "\n",
    "\n",
    "import os\n",
    "import shutil\n",
    "\n",
    "# 폴더 경로 설정\n",
    "txt_dir = \"./TXT\"\n",
    "images_dir = \"./images\"\n",
    "\n",
    "# 5개 이상의 값이 있는 라벨 파일을 변환하는 함수\n",
    "def convert_to_bounding_box(file_path):\n",
    "    converted_lines = []\n",
    "    with open(file_path, \"r\") as f:\n",
    "        for line in f:\n",
    "            values = line.strip().split()\n",
    "            if len(values) > 5:\n",
    "                # 클래스 ID는 그대로 사용하고, 나머지 좌표값들을 float형으로 변환하여 좌표 리스트로 변환\n",
    "                class_id = values[0]\n",
    "                coordinates = list(map(float, values[1:]))\n",
    "\n",
    "                # x 좌표와 y 좌표를 각각 추출하여 min/max 값을 찾음\n",
    "                x_coords = coordinates[::2]  # x 좌표만 추출\n",
    "                y_coords = coordinates[1::2]  # y 좌표만 추출\n",
    "                x_min, x_max = min(x_coords), max(x_coords)\n",
    "                y_min, y_max = min(y_coords), max(y_coords)\n",
    "\n",
    "                # 중심 좌표(x_center, y_center)와 너비(width), 높이(height) 계산\n",
    "                x_center = (x_min + x_max) / 2\n",
    "                y_center = (y_min + y_max) / 2\n",
    "                width = x_max - x_min\n",
    "                height = y_max - y_min\n",
    "\n",
    "                # 변환된 라벨 형식으로 저장\n",
    "                converted_line = f\"{class_id} {x_center} {y_center} {width} {height}\\n\"\n",
    "                converted_lines.append(converted_line)\n",
    "            else:\n",
    "                # 이미 5개의 값인 경우는 그대로 추가\n",
    "                converted_lines.append(line)\n",
    "    return converted_lines\n",
    "\n",
    "# 변환 전 TXT 폴더의 파일 개수 확인\n",
    "txt_files_before = sorted([f for f in os.listdir(txt_dir) if f.endswith(\".txt\")])\n",
    "txt_count_before = len(txt_files_before)\n",
    "\n",
    "# 변환된 데이터를 원본 파일에 덮어쓰기\n",
    "for filename in txt_files_before:\n",
    "    file_path = os.path.join(txt_dir, filename)\n",
    "    # 각 파일의 변환 결과 가져오기\n",
    "    converted_data = convert_to_bounding_box(file_path)\n",
    "\n",
    "    # 변환된 데이터를 TXT 폴더 내 원본 파일에 덮어쓰기\n",
    "    with open(file_path, \"w\") as f:\n",
    "        f.writelines(converted_data)\n",
    "\n",
    "# 변환 후 TXT 폴더와 images 폴더의 파일 개수 및 파일명 비교\n",
    "txt_files_after = sorted([f for f in os.listdir(txt_dir) if f.endswith(\".txt\")])\n",
    "image_files = sorted([f for f in os.listdir(images_dir) if os.path.splitext(f)[1] in ['.jpg', '.jpeg', '.png', '.bmp', '.gif']])\n",
    "\n",
    "txt_count_after = len(txt_files_after)\n",
    "image_count = len(image_files)\n",
    "\n",
    "# 변환 전과 변환 후의 TXT 파일 개수 출력\n",
    "print(f\"변환 전 TXT 폴더 내 파일 개수: {txt_count_before}\")\n",
    "print(f\"변환 후 TXT 폴더 내 파일 개수: {txt_count_after}\")\n",
    "print(f\"images 폴더 내 파일 개수: {image_count}\")\n",
    "\n",
    "# 파일 개수와 이름 확인\n",
    "if txt_count_after == image_count and txt_files_after == [os.path.splitext(f)[0] + \".txt\" for f in image_files]:\n",
    "    print(\"TXT 폴더와 images 폴더의 파일 개수 및 파일명이 동일합니다.\")\n",
    "    print(\"변환된 TXT 파일을 기존 TXT 파일에 덮어쓰기 했습니다.\")\n",
    "else:\n",
    "    print(\"경고: TXT 폴더와 images 폴더의 파일 개수 또는 파일명이 다릅니다.\")\n"
   ]
  },
  {
   "cell_type": "code",
   "execution_count": null,
   "metadata": {},
   "outputs": [],
   "source": []
  }
 ],
 "metadata": {
  "kernelspec": {
   "display_name": "Python 3",
   "language": "python",
   "name": "python3"
  },
  "language_info": {
   "codemirror_mode": {
    "name": "ipython",
    "version": 3
   },
   "file_extension": ".py",
   "mimetype": "text/x-python",
   "name": "python",
   "nbconvert_exporter": "python",
   "pygments_lexer": "ipython3",
   "version": "3.12.1"
  }
 },
 "nbformat": 4,
 "nbformat_minor": 2
}
