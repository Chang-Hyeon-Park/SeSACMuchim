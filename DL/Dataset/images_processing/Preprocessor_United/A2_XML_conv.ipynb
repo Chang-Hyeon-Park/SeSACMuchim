{
 "cells": [
  {
   "attachments": {
    "image.png": {
     "image/png": "[encoded data removed]"
    }
   },
   "cell_type": "markdown",
   "metadata": {},
   "source": [
    "### 해당 파일을 아래와 같은 구성으로 넣어주세요\n",
    "![image.png](attachment:image.png)"
   ]
  },
  {
   "cell_type": "markdown",
   "metadata": {},
   "source": [
    "- 이 코드를 실행하면 XML 및 json 파일을 YOLO based txt 파일로 변환할 수 있음\n",
    "- (추가 수정_241114: XML 파일 전용으로 코드 수정, JSON 파일 전용은 별도 파일 참고)\n",
    "- 이때 변환된 CONVERT 폴더 속 txt 파일의 class를 아래 세 타입으로 분류함\n",
    "- 1. class0 은 0(pothole)만 있는 단일 라벨링\n",
    "- 2. class1 은 0을 포함하지만 1 이상의 class를 하나 이상 포함한 복수 라벨링\n",
    "- 3. classNAN 은 0을 포함하지 않고 있는 라벨링 (class1,2의 개수는 무관)"
   ]
  },
  {
   "cell_type": "markdown",
   "metadata": {},
   "source": [
    "# What to do?\n",
    "- classNAN으로 분류된 파일은 test set 으로 이동시키거나 드롭\n",
    "- class1으로 분류된 파일은 0만 남기고 1 이상의 값을 삭제 후 저장\n",
    "- class0으로 분류된 파일은 그대로 train set으로서 사용"
   ]
  },
  {
   "cell_type": "code",
   "execution_count": null,
   "metadata": {},
   "outputs": [
    {
     "name": "stdout",
     "output_type": "stream",
     "text": [
      "총 XML 파일 개수: 4805\n",
      "총 이미지 파일 개수: 4805\n",
      "매칭된 파일 개수: 4805\n",
      "매칭되지 않은 파일 개수: 0\n",
      "매칭되지 않은 파일 목록은 ./CONVERT\\differences.txt에 저장되었습니다.\n"
     ]
    }
   ],
   "source": [
    "import os\n",
    "import shutil\n",
    "import xml.etree.ElementTree as ET\n",
    "\n",
    "# 폴더 경로 설정\n",
    "xml_dir = \"./XML\"\n",
    "images_dir = \"./images\"\n",
    "txt_dir = \"./TXT\"\n",
    "unmatched_dir = \"./UNMATCHED\"\n",
    "convert_dir = \"./CONVERT\"\n",
    "images_class_dir = \"./images_class\"\n",
    "\n",
    "# 필요한 폴더 생성\n",
    "os.makedirs(txt_dir, exist_ok=True)\n",
    "os.makedirs(images_class_dir, exist_ok=True)\n",
    "\n",
    "# XML 파일을 YOLO 형식으로 변환하는 함수\n",
    "def xml_to_yolo(xml_path, output_txt_path):\n",
    "    tree = ET.parse(xml_path)\n",
    "    root = tree.getroot()\n",
    "\n",
    "    image_width = int(root.find('size/width').text)\n",
    "    image_height = int(root.find('size/height').text)\n",
    "\n",
    "    yolo_annotations = []\n",
    "\n",
    "    for obj in root.findall('object'):\n",
    "        class_name = obj.find('name').text\n",
    "        class_id = 0 if class_name == \"pothole\" else 1\n",
    "\n",
    "        bndbox = obj.find('bndbox')\n",
    "        xmin = int(bndbox.find('xmin').text)\n",
    "        ymin = int(bndbox.find('ymin').text)\n",
    "        xmax = int(bndbox.find('xmax').text)\n",
    "        ymax = int(bndbox.find('ymax').text)\n",
    "\n",
    "        x_center = ((xmin + xmax) / 2) / image_width\n",
    "        y_center = ((ymin + ymax) / 2) / image_height\n",
    "        width = (xmax - xmin) / image_width\n",
    "        height = (ymax - ymin) / image_height\n",
    "\n",
    "        yolo_annotations.append(f\"{class_id} {x_center:.6f} {y_center:.6f} {width:.6f} {height:.6f}\")\n",
    "\n",
    "    with open(output_txt_path, \"w\") as file:\n",
    "        for line in yolo_annotations:\n",
    "            file.write(line + \"\\n\")\n",
    "\n",
    "# 파일 매칭 확인 및 변환 처리\n",
    "xml_files = sorted([f for f in os.listdir(xml_dir) if f.endswith(\".xml\")])\n",
    "image_files = sorted([f for f in os.listdir(images_dir) if os.path.splitext(f)[1].lower() in ['.jpg', '.jpeg', '.png', '.bmp', '.gif']])\n",
    "\n",
    "xml_names = {os.path.splitext(f)[0] for f in xml_files}\n",
    "image_names = {os.path.splitext(f)[0] for f in image_files}\n",
    "\n",
    "# 매칭된 파일과 매칭되지 않은 파일 확인\n",
    "matched_files = xml_names.intersection(image_names)\n",
    "unmatched_files = xml_names.symmetric_difference(image_names)\n",
    "\n",
    "# 매칭되지 않은 파일이 있을 경우에만 UNMATCHED 및 CONVERT 폴더 생성\n",
    "if unmatched_files:\n",
    "    os.makedirs(unmatched_dir, exist_ok=True)\n",
    "    os.makedirs(convert_dir, exist_ok=True)\n",
    "    unmatched_log_path = os.path.join(convert_dir, \"differences.txt\")\n",
    "\n",
    "    # 매칭되지 않은 파일을 UNMATCHED 폴더로 이동 및 기록\n",
    "    with open(unmatched_log_path, 'w') as f:\n",
    "        for unmatched in unmatched_files:\n",
    "            moved = False  # 파일 이동 여부 체크\n",
    "            \n",
    "            # 매칭되지 않은 XML 파일이 있으면 이동\n",
    "            xml_path = os.path.join(xml_dir, unmatched + \".xml\")\n",
    "            if os.path.exists(xml_path):\n",
    "                shutil.move(xml_path, unmatched_dir)\n",
    "                f.write(unmatched + \".xml\\n\")\n",
    "                moved = True\n",
    "\n",
    "            # 매칭되지 않은 이미지 파일 확장자별로 존재 확인 후 이동\n",
    "            for ext in ['.jpg', '.jpeg', '.png', '.bmp', '.gif']:\n",
    "                image_path = os.path.join(images_dir, unmatched + ext)\n",
    "                if os.path.exists(image_path):\n",
    "                    shutil.move(image_path, unmatched_dir)\n",
    "                    f.write(unmatched + ext + \"\\n\")\n",
    "                    moved = True\n",
    "\n",
    "            # 매칭되지 않은 파일이 없을 경우 경고 메시지\n",
    "            if not moved:\n",
    "                print(f\"경고: {unmatched} 파일을 찾을 수 없습니다.\")\n",
    "\n",
    "# 매칭된 파일 변환\n",
    "for matched in matched_files:\n",
    "    xml_path = os.path.join(xml_dir, matched + \".xml\")\n",
    "    txt_filename = matched + \".txt\"\n",
    "    output_txt_path = os.path.join(txt_dir, txt_filename)\n",
    "\n",
    "    # XML 파일을 YOLO 형식으로 변환하여 TXT 폴더에 저장\n",
    "    xml_to_yolo(xml_path, output_txt_path)\n",
    "\n",
    "    # 매칭된 이미지 파일을 images_class 폴더로 복사\n",
    "    for ext in ['.jpg', '.jpeg', '.png', '.bmp', '.gif']:\n",
    "        image_path = os.path.join(images_dir, matched + ext)\n",
    "        if os.path.exists(image_path):\n",
    "            shutil.copy(image_path, images_class_dir)\n",
    "            break  # 이미지를 찾고 복사했으면 종료\n",
    "\n",
    "# 파일 개수 및 처리 결과 출력\n",
    "print(f\"총 XML 파일 개수: {len(xml_files)}\")\n",
    "print(f\"총 이미지 파일 개수: {len(image_files)}\")\n",
    "print(f\"매칭된 파일 개수: {len(matched_files)}\")\n",
    "print(f\"매칭되지 않은 파일 개수: {len(unmatched_files)}\")\n",
    "\n",
    "if unmatched_files:\n",
    "    print(f\"매칭되지 않은 파일 목록은 {unmatched_log_path}에 저장되었습니다.\")\n",
    "else:\n",
    "    print(\"모든 파일이 정상적으로 매칭되었습니다.\")\n"
   ]
  },
  {
   "cell_type": "code",
   "execution_count": null,
   "metadata": {},
   "outputs": [],
   "source": []
  }
 ],
 "metadata": {
  "kernelspec": {
   "display_name": "Python 3",
   "language": "python",
   "name": "python3"
  },
  "language_info": {
   "codemirror_mode": {
    "name": "ipython",
    "version": 3
   },
   "file_extension": ".py",
   "mimetype": "text/x-python",
   "name": "python",
   "nbconvert_exporter": "python",
   "pygments_lexer": "ipython3",
   "version": "3.12.1"
  }
 },
 "nbformat": 4,
 "nbformat_minor": 2
}
